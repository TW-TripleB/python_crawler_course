{
 "cells": [
  {
   "cell_type": "code",
   "execution_count": 2,
   "id": "ae3909c0",
   "metadata": {},
   "outputs": [],
   "source": [
    "import numpy as np\n",
    "import matplotlib.pyplot as plt\n",
    "from sklearn.linear_model import LinearRegression"
   ]
  },
  {
   "cell_type": "code",
   "execution_count": 3,
   "id": "614761a0",
   "metadata": {},
   "outputs": [],
   "source": [
    "temp=np.array([29,28,34,31,25,29,32,31,24,33,25,31,26,30])\n",
    "ice=np.array([77,62,93,84,59,64,80,75,58,91,51,73,65,84])"
   ]
  },
  {
   "cell_type": "code",
   "execution_count": 4,
   "id": "d9f3424e",
   "metadata": {},
   "outputs": [
    {
     "data": {
      "text/plain": [
       "<matplotlib.collections.PathCollection at 0x1813806ab20>"
      ]
     },
     "execution_count": 4,
     "metadata": {},
     "output_type": "execute_result"
    },
    {
     "data": {
      "image/png": "[encoded data removed]",
      "text/plain": [
       "<Figure size 432x288 with 1 Axes>"
      ]
     },
     "metadata": {
      "needs_background": "light"
     },
     "output_type": "display_data"
    }
   ],
   "source": [
    "plt.scatter(temp,ice)"
   ]
  },
  {
   "cell_type": "code",
   "execution_count": 5,
   "id": "d1023cbb",
   "metadata": {},
   "outputs": [],
   "source": [
    "lr=LinearRegression()"
   ]
  },
  {
   "cell_type": "code",
   "execution_count": 25,
   "id": "c19001eb",
   "metadata": {},
   "outputs": [
    {
     "data": {
      "text/plain": [
       "array([[29],\n",
       "       [28],\n",
       "       [34],\n",
       "       [31],\n",
       "       [25],\n",
       "       [29],\n",
       "       [32],\n",
       "       [31],\n",
       "       [24],\n",
       "       [33],\n",
       "       [25],\n",
       "       [31],\n",
       "       [26],\n",
       "       [30]])"
      ]
     },
     "execution_count": 25,
     "metadata": {},
     "output_type": "execute_result"
    }
   ],
   "source": [
    "temp_shape=np.reshape(temp,(len(temp),1)) # 一個一個分開\n",
    "ice_shape=np.reshape(ice,(len(ice),1))\n"
   ]
  },
  {
   "cell_type": "code",
   "execution_count": 11,
   "id": "f27e4ca2",
   "metadata": {},
   "outputs": [
    {
     "data": {
      "text/plain": [
       "LinearRegression()"
      ]
     },
     "execution_count": 11,
     "metadata": {},
     "output_type": "execute_result"
    }
   ],
   "source": [
    "lr.fit(temp_shape,ice_shape)"
   ]
  },
  {
   "cell_type": "code",
   "execution_count": 22,
   "id": "b1c7c56f",
   "metadata": {},
   "outputs": [],
   "source": [
    "new_temp=np.array([30])\n",
    "new_shape=np.reshape(new_temp,(len(new_temp),1))"
   ]
  },
  {
   "cell_type": "code",
   "execution_count": 23,
   "id": "e5f47882",
   "metadata": {},
   "outputs": [],
   "source": [
    "cup=lr.predict(new_shape)"
   ]
  },
  {
   "cell_type": "code",
   "execution_count": 24,
   "id": "3bd11241",
   "metadata": {},
   "outputs": [
    {
     "data": {
      "text/plain": [
       "array([[75.7753304]])"
      ]
     },
     "execution_count": 24,
     "metadata": {},
     "output_type": "execute_result"
    }
   ],
   "source": [
    "cup"
   ]
  },
  {
   "cell_type": "code",
   "execution_count": 29,
   "id": "de558c1a",
   "metadata": {},
   "outputs": [
    {
     "data": {
      "text/plain": [
       "[<matplotlib.lines.Line2D at 0x181399b8a00>]"
      ]
     },
     "execution_count": 29,
     "metadata": {},
     "output_type": "execute_result"
    },
    {
     "data": {
      "image/png": "[encoded data removed]",
      "text/plain": [
       "<Figure size 432x288 with 1 Axes>"
      ]
     },
     "metadata": {
      "needs_background": "light"
     },
     "output_type": "display_data"
    }
   ],
   "source": [
    "plt.scatter(temp,ice)\n",
    "plt.plot(temp,lr.predict(np.reshape(temp,(len(temp),1))),color=\"blue\",linewidth=4) # 線性回歸\n",
    "plt.plot(new_temp,cup,color=\"red\",marker=\"s\") # 預測值"
   ]
  },
  {
   "cell_type": "code",
   "execution_count": 27,
   "id": "b1978947",
   "metadata": {},
   "outputs": [
    {
     "data": {
      "text/plain": [
       "[<matplotlib.lines.Line2D at 0x181389305b0>]"
      ]
     },
     "execution_count": 27,
     "metadata": {},
     "output_type": "execute_result"
    },
    {
     "data": {
      "image/png": "[encoded data removed]",
      "text/plain": [
       "<Figure size 432x288 with 1 Axes>"
      ]
     },
     "metadata": {
      "needs_background": "light"
     },
     "output_type": "display_data"
    }
   ],
   "source": []
  },
  {
   "cell_type": "code",
   "execution_count": null,
   "id": "2e3df194",
   "metadata": {},
   "outputs": [],
   "source": []
  }
 ],
 "metadata": {
  "kernelspec": {
   "display_name": "Python 3",
   "language": "python",
   "name": "python3"
  },
  "language_info": {
   "codemirror_mode": {
    "name": "ipython",
    "version": 3
   },
   "file_extension": ".py",
   "mimetype": "text/x-python",
   "name": "python",
   "nbconvert_exporter": "python",
   "pygments_lexer": "ipython3",
   "version": "3.8.8"
  }
 },
 "nbformat": 4,
 "nbformat_minor": 5
}
